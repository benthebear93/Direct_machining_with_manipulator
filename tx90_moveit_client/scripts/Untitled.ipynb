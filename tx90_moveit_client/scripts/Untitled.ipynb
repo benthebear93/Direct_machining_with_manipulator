{
 "cells": [
  {
   "cell_type": "code",
   "execution_count": 3,
   "id": "c5a8f45f",
   "metadata": {},
   "outputs": [
    {
     "name": "stdout",
     "output_type": "stream",
     "text": [
      "8.660254037844387\n"
     ]
    }
   ],
   "source": [
    "import numpy as np\n",
    "a =np.array([120, 119, 10])\n",
    "b =np.array([125, 114, 5])\n",
    "    \n",
    "squared_dist = np.sum((a-b)**2, axis=0)\n",
    "dist = np.sqrt(squared_dist)\n",
    "\n",
    "print(dist)"
   ]
  },
  {
   "cell_type": "code",
   "execution_count": 11,
   "id": "ddcb17d1",
   "metadata": {},
   "outputs": [
    {
     "name": "stdout",
     "output_type": "stream",
     "text": [
      "[0.1, 0.05, 0.31] <class 'list'> [0.1  0.05 0.31]\n",
      "(4,)\n",
      "[0.3  0.1  0.55] 0.7\n"
     ]
    }
   ],
   "source": [
    "x = 0.33\n",
    "y = 0.44\n",
    "z = 0.78\n",
    "r = 0.1\n",
    "p = 0.05\n",
    "y = 0.31\n",
    "\n",
    "state = ([x,y,z], [r,p,y])\n",
    "print(state[1], type(state[1]), np.array(state[1]))\n",
    "\n",
    "action = np.array([0.3, 0.1, 0.55, 0.7])\n",
    "print(action.shape)\n",
    "print(action[:3], action[3])"
   ]
  }
 ],
 "metadata": {
  "kernelspec": {
   "display_name": "Python 3",
   "language": "python",
   "name": "python3"
  },
  "language_info": {
   "codemirror_mode": {
    "name": "ipython",
    "version": 3
   },
   "file_extension": ".py",
   "mimetype": "text/x-python",
   "name": "python",
   "nbconvert_exporter": "python",
   "pygments_lexer": "ipython3",
   "version": "3.6.9"
  }
 },
 "nbformat": 4,
 "nbformat_minor": 5
}
